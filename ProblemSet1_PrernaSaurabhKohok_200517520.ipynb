{
 "cells": [
  {
   "cell_type": "code",
   "execution_count": 34,
   "id": "0ed4618d",
   "metadata": {},
   "outputs": [
    {
     "name": "stdout",
     "output_type": "stream",
     "text": [
      "<class 'int'>\n",
      "<class 'float'>\n",
      "<class 'bool'>\n",
      "<class 'str'>\n",
      "<class 'int'>\n",
      "55\n",
      "<class 'str'>\n",
      "<class 'str'>\n",
      "2.5\n",
      "<class 'float'>\n",
      "1\n",
      "<class 'set'>\n",
      "<class 'bool'>\n",
      "<class 'float'>\n"
     ]
    }
   ],
   "source": [
    "# Question 1\n",
    "# What data type is each of the following (evaluate where necessary)?\n",
    "\n",
    "print(type(5))\n",
    "print(type(5.0))\n",
    "print(type(5 > 1))\n",
    "print(type('5'))\n",
    "print(type(5 * 2))\n",
    "print('5'*2)\n",
    "print(type('5' * 2))\n",
    "print(type('5' + '2'))\n",
    "print(5 / 2)\n",
    "print(type(5/2))\n",
    "print(5 % 2)\n",
    "print(type({5, 2, 1}))\n",
    "print(type(5 == 3))\n",
    "Pi = 3.14\n",
    "print(type(Pi))"
   ]
  },
  {
   "cell_type": "code",
   "execution_count": 2,
   "id": "efc19a4b",
   "metadata": {},
   "outputs": [
    {
     "name": "stdout",
     "output_type": "stream",
     "text": [
      "length of the String is  34\n",
      "Yes ice is present in the string\n",
      "Supercalifragilisticexpialidocious\n",
      "Words as per Dictionary order:  ['Bartok', 'Bellini', 'Berlioz', 'Bernstein', 'Borodin', 'Brian', 'Buxtehude']\n",
      "Bartok Buxtehude\n"
     ]
    }
   ],
   "source": [
    "# Question 2\n",
    "\n",
    "# Write (and evaluate) python expressions that answer these questions:\n",
    "# a. How many letters are there in 'Supercalifragilisticexpialidocious'?\n",
    "# b. Does 'Supercalifragilisticexpialidocious' contain 'ice' as a substring?\n",
    "# c. Which of the following words is the longest:\n",
    "# Supercalifragilisticexpialidocious, Honorificabilitudinitatibus, or\n",
    "# Bababadalgharaghtakamminarronnkonn?\n",
    "# d. Which composer comes first in the dictionary: 'Berlioz', 'Borodin', 'Brian',\n",
    "# 'Bartok', 'Bellini', 'Buxtehude', 'Bernstein'. Which one comes last?\n",
    "\n",
    "string1 = 'Supercalifragilisticexpialidocious'\n",
    "string2 = 'Honorificabilitudinitatibus'\n",
    "string3 = 'Bababadalgharaghtakamminarronnkonn'\n",
    "print('length of the String is ' , len(string1))\n",
    "if string1.find('ice') > 0 :\n",
    "    print('Yes ice is present in the string')\n",
    "else:\n",
    "    print('No string contains ice in it')\n",
    "largest_string = max(string1,string2,string3)\n",
    "print(largest_string)\n",
    "words = ['Berlioz', 'Borodin', 'Brian', 'Bartok', 'Bellini', 'Buxtehude', 'Bernstein']\n",
    "words.sort()\n",
    "print('Words as per Dictionary order: ' , words)\n",
    "print(words[0],words[-1])"
   ]
  },
  {
   "cell_type": "code",
   "execution_count": null,
   "id": "0827df18",
   "metadata": {},
   "outputs": [],
   "source": []
  },
  {
   "cell_type": "code",
   "execution_count": 4,
   "id": "6cbeea5d",
   "metadata": {
    "scrolled": true
   },
   "outputs": [
    {
     "name": "stdout",
     "output_type": "stream",
     "text": [
      "Please enter dimentions a,b,c for Traingle\n",
      "Enter value of a:2\n",
      "Enter value of a:2\n",
      "Enter value of a:2\n",
      "Area of Traingle is:  1.7320508075688772\n"
     ]
    }
   ],
   "source": [
    "# Question 3\n",
    "# Implement function triangleArea(a,b,c) that takes as input the lengths of the 3\n",
    "# sides of a triangle and returns the area of the triangle. By Heron's formula, the area\n",
    "# of a triangle with side lengths a, b, and c is\n",
    "# s(s - a)(s -b)(s -c), where\n",
    "# s = (a +b + c) /2.\n",
    "\n",
    "import math\n",
    "a, b, c, s = 0.0, 0.0, 0.0, 0.0\n",
    "print('Please enter dimentions a,b,c for Traingle')\n",
    "a, b, c = float(input('Enter value of a:')), float(input('Enter value of a:')), float(input('Enter value of a:'))\n",
    "s = (a+b+c)/2\n",
    "def triangleArea(a,b,c,s):\n",
    "    area = math.sqrt(s*(s-a)*(s-b)*(s-c))\n",
    "    return area\n",
    "print('Area of Traingle is: ', triangleArea(a,b,c,s))"
   ]
  },
  {
   "cell_type": "code",
   "execution_count": 5,
   "id": "f1b8afa4",
   "metadata": {},
   "outputs": [
    {
     "name": "stdout",
     "output_type": "stream",
     "text": [
      "Enter 5 elements to Array: \n",
      "element-0:25\n",
      "element-1:47\n",
      "element-2:42\n",
      "element-3:56\n",
      "element-4:32\n",
      "Even elements are:\n",
      "42\n",
      "56\n",
      "32\n",
      "Odd elements are:\n",
      "25\n",
      "47\n"
     ]
    }
   ],
   "source": [
    "# Question 4\n",
    "# Write a program in python to separate odd and even integers in separate arrays. Go\n",
    "# to the editor\n",
    "# Test Data :\n",
    "# Input the number of elements to be stored in the array :5\n",
    "# Input 5 elements in the array :\n",
    "# element - 0 : 25\n",
    "# element - 1 : 47\n",
    "# element - 2 : 42\n",
    "# element - 3 : 56\n",
    "# element - 4 : 32\n",
    "\n",
    "a = [0,0,0,0,0]\n",
    "evenArray = []\n",
    "oddArray = []\n",
    "print('Enter 5 elements to Array: ')\n",
    "a[0]=input('element-0:')\n",
    "a[1]=input('element-1:') \n",
    "a[2]=input('element-2:') \n",
    "a[3]=input('element-3:') \n",
    "a[4]=input('element-4:') \n",
    "for i in a:\n",
    "    if (int(i)%2 == 0):\n",
    "        evenArray.append(i)\n",
    "    else:\n",
    "        oddArray.append(i)\n",
    "print('Even elements are:')\n",
    "for j in evenArray:\n",
    "    print(j)\n",
    "print('Odd elements are:')\n",
    "for k in oddArray:\n",
    "    print(k)"
   ]
  },
  {
   "cell_type": "markdown",
   "id": "2d85f5f6",
   "metadata": {},
   "source": []
  },
  {
   "cell_type": "code",
   "execution_count": 14,
   "id": "93ed499c",
   "metadata": {},
   "outputs": [
    {
     "name": "stdout",
     "output_type": "stream",
     "text": [
      "Part A :\n",
      " \n",
      "True\n",
      "False\n",
      " \n",
      "Part B :\n",
      " \n",
      "False\n",
      "True\n"
     ]
    }
   ],
   "source": [
    "# Question 5\n",
    "# a. Write a function inside(x,y,x1,y1,x2,y2) that returns True or False depending on whether the point (x,y) lies in the rectangle with lower left corner (x1,y1) and upper right corner (x2,y2).\n",
    "# >>> inside(1,1,0,0,2,3)\n",
    "# True\n",
    "# >>> inside(-1,-1,0,0,2,3)\n",
    "# False\n",
    "# b. Use function inside() from part a. to write an expression that tests whether the point (1,1) lies in both of the following rectangles: one with lower left corner (0.3, 0.5) and upper right corner (1.1, 0.7) and the other with lower left corner (0.5, 0.2) and upper right corner (1.1, 2).\n",
    "\n",
    "def inside(x,y,x1,y1,x2,y2):\n",
    "    if((x>x1 and x<x2) and (y>y1 and y<y2)):\n",
    "        return True\n",
    "    else:\n",
    "        return False \n",
    "print(\"Part A :\")    \n",
    "print(\" \")\n",
    "print (inside(1,1,0,0,2,3))\n",
    "print (inside(-1,-1,0,0,2,3))\n",
    "print(\" \")\n",
    "print(\"Part B :\")\n",
    "print (\" \")\n",
    "print (inside(1,1,0.3,0.5,1.1,0.7))\n",
    "print (inside(1,1,0.5,0.3,1.1,2))\n"
   ]
  },
  {
   "cell_type": "code",
   "execution_count": 16,
   "id": "d4c56c1b",
   "metadata": {},
   "outputs": [
    {
     "name": "stdout",
     "output_type": "stream",
     "text": [
      "appyhay\n",
      "enterway\n"
     ]
    }
   ],
   "source": [
    "# Question 6\n",
    "# 16. You can turn a word into pig-Latin using the following two rules (simplified):\n",
    "# • If the word starts with a consonant, move that letter to the end and append 'ay'. For example, 'happy' becomes 'appyhay' and 'pencil' becomes 'encilpay'.\n",
    "# • If the word starts with a vowel, simply append 'way' to the end of the word. For example, 'enter' becomes 'enterway' and 'other' becomes 'otherway' . For our purposes, there are 5 vowels: a, e, i, o, u (so we count y as a consonant).\n",
    "# Write a function pig() that takes a word (i.e., a string) as input and returns its pig-Latin form. Your function should still work if the input word contains upper case characters. Your output should always be lower case however.\n",
    "\n",
    "def pig(word):\n",
    "    \"\"\"\n",
    "    Convert a word into Pig Latin.\n",
    "    Returns the Pig Latin form of the word.\n",
    "    \"\"\"\n",
    "    vowels = ['a', 'e', 'i', 'o', 'u']\n",
    "    word = word.lower()  # Convert the word to lowercase\n",
    "\n",
    "    if word[0] in vowels:\n",
    "        pig_latin = word + 'way'\n",
    "    else:\n",
    "        pig_latin = word[1:] + word[0] + 'ay'\n",
    "\n",
    "    return pig_latin\n",
    "\n",
    "print(pig('happy'))   \n",
    "print(pig('enter'))    \n"
   ]
  },
  {
   "cell_type": "code",
   "execution_count": 28,
   "id": "4dbdb667",
   "metadata": {},
   "outputs": [
    {
     "name": "stdout",
     "output_type": "stream",
     "text": [
      "There are  15 patients with blood group A\n",
      "There are  1 patients with blood group A\n",
      "There are  13 patients with blood group AB\n",
      "There are  15 patients with blood group O\n",
      "There are  0 patients with blood group OO\n"
     ]
    }
   ],
   "source": [
    "# Question 7\n",
    "# File bloodtype1.txt records blood-types of patients (A, B, AB, O or OO) at a clinic. Write a function bldcount() that reads the file with name name and reports (i.e., prints) how many patients there are in each bloodtype.\n",
    "\n",
    "def bloodcount(filename):\n",
    "    infile = open(filename, 'r')\n",
    "    filetxt = infile.read()\n",
    "    bloodgrps = filetxt.split(' ')\n",
    "    print('There are ', bloodgrps.count('A') , 'patients with blood group A')\n",
    "    print('There are ', bloodgrps.count('B') , 'patients with blood group A')\n",
    "    print('There are ', bloodgrps.count('AB') , 'patients with blood group AB')\n",
    "    print('There are ', bloodgrps.count('O') , 'patients with blood group O')\n",
    "    print('There are ', bloodgrps.count('OO') , 'patients with blood group OO')\n",
    "bloodcount('bloodtype1.txt')"
   ]
  },
  {
   "cell_type": "code",
   "execution_count": 35,
   "id": "8a4ecbfe",
   "metadata": {},
   "outputs": [
    {
     "name": "stdout",
     "output_type": "stream",
     "text": [
      "122.96544\n",
      "1.241401\n"
     ]
    }
   ],
   "source": [
    "# Question 8\n",
    "# Write a function curconv() that takes as input:\n",
    "# 1. a currency represented using a string (e.g., 'JPY' for the Japanese Yen or 'EUR' for the Euro)\n",
    "# 2. an amount\n",
    "# and then converts and returns the amount in US dollars.\n",
    "\n",
    "infile = open('currencies.txt','r')\n",
    "currencylist= infile.readlines()\n",
    "new_text=[]\n",
    "dictionary={}\n",
    "for text in currencylist:\n",
    "    new_text.append(text.replace('\\t',' ').split(' '))\n",
    "\n",
    "for text1 in new_text:\n",
    "    dictionary[text1[0]]=float(text1[1])\n",
    "\n",
    "def curconv(countrycode, amount):\n",
    "    amount_in_US_Dollar = amount*dictionary[countrycode]\n",
    "    print(amount_in_US_Dollar)\n",
    "\n",
    "curconv('EUR',100)\n",
    "curconv('JPY',100)"
   ]
  },
  {
   "cell_type": "code",
   "execution_count": 32,
   "id": "c9d7e7d5",
   "metadata": {},
   "outputs": [
    {
     "ename": "SyntaxError",
     "evalue": "illegal target for annotation (2643767176.py, line 18)",
     "output_type": "error",
     "traceback": [
      "\u001b[1;36m  Cell \u001b[1;32mIn[32], line 18\u001b[1;36m\u001b[0m\n\u001b[1;33m    print(6+'a')// Exception : supported operand type(s) for +: 'int' and 'str'\u001b[0m\n\u001b[1;37m    ^\u001b[0m\n\u001b[1;31mSyntaxError\u001b[0m\u001b[1;31m:\u001b[0m illegal target for annotation\n"
     ]
    }
   ],
   "source": [
    "# Question 9\n",
    "# Each of the following will cause an exception (an error). Identify what type of exception each will cause.\n",
    "# Trying to add incompatible variables, as in\n",
    "# adding 6 + ‘a’\n",
    "# Referring to the 12\n",
    "# th item of a list that has only 10\n",
    "# items\n",
    "# Using a value that is out of range for a functi\n",
    "# on’s\n",
    "# input, such as calling math.sqrt( 1.0)\n",
    "# Using an undeclared variable, such as\n",
    "# p rint(x)\n",
    "# when x has not been defined\n",
    "# Trying to open a file that does not exist, such as\n",
    "# mistyping the file name or looking in the wrong\n",
    "# directory.\n",
    "\n",
    "print(6+'a')// Exception : supported operand type(s) for +: 'int' and 'str'\n",
    "list = [1,2,3,4,5,6,7,8,9,10]\n",
    "print(list[10])// Exception is list index out of range\n",
    "import math\n",
    "print(math.sqrt(-1))// Exception is math domain error\n",
    "print(x)// Error is name 'x' not defined\n",
    "infile = open('switch.txt')//[Errno 2] No such file or directory: 'switch.txt'"
   ]
  },
  {
   "cell_type": "code",
   "execution_count": 33,
   "id": "b78d1a41",
   "metadata": {},
   "outputs": [
    {
     "name": "stdout",
     "output_type": "stream",
     "text": [
      "[1, 1, 1, 3, 5, 1, 1, 2, 1, 0, 1, 0, 1, 2, 4, 0, 1, 2, 0, 2, 1, 0, 1, 1, 0, 0]\n",
      "[1, 0, 0, 0, 1, 0, 0, 0, 0, 0, 0, 1, 0, 0, 0, 2, 0, 0, 0, 0, 0, 0, 0, 0, 0, 0]\n"
     ]
    }
   ],
   "source": [
    "# Question 10\n",
    "# Encryption is the process of hiding the meaning of a text by substituting letters in the message with other letters, according to some system. If the process is successful, no one but the intended recipient can understand the encrypted message. Cryptanalysis refers to attempts to undo the encryption, even if some details of the encryption are unknown (for example, if an encrypted message has been intercepted). The first step of cryptanalysis is often to build up a table of letter frequencies in the encrypted text. Assume that the string letters is already defined as 'abcdefghijklmnopqrstuvwxyz'. Write a function called frequencies() that takes a string as its only parameter, and returns a list of integers, showing the number of times each character appears in the text. Your function may ignore any characters that are not in letters.\n",
    "# >>> frequencies('The quick red fox got bored and went home.')\n",
    "# [1, 1, 1, 3, 5, 1, 1, 2, 1, 0, 1, 0, 1, 2, 4, 0, 1, 2, 0, 2, 1, 0, 1, 1, 0, 0]\n",
    "# >>> frequencies('apple')\n",
    "\n",
    "def frequencies(message):\n",
    "    letters='abcdefghijklmnopqrstuvwxyz'\n",
    "    encryption=[]\n",
    "    for char in letters:\n",
    "        if(char in message):\n",
    "            encryption.append(message.count(char))\n",
    "        else:\n",
    "            encryption.append(0)\n",
    "    print(encryption)\n",
    "frequencies('The quick red fox got bored and went home.')\n",
    "frequencies (\"apple\")"
   ]
  },
  {
   "cell_type": "code",
   "execution_count": null,
   "id": "d342a5e1",
   "metadata": {},
   "outputs": [],
   "source": []
  }
 ],
 "metadata": {
  "kernelspec": {
   "display_name": "Python 3 (ipykernel)",
   "language": "python",
   "name": "python3"
  },
  "language_info": {
   "codemirror_mode": {
    "name": "ipython",
    "version": 3
   },
   "file_extension": ".py",
   "mimetype": "text/x-python",
   "name": "python",
   "nbconvert_exporter": "python",
   "pygments_lexer": "ipython3",
   "version": "3.10.9"
  }
 },
 "nbformat": 4,
 "nbformat_minor": 5
}
